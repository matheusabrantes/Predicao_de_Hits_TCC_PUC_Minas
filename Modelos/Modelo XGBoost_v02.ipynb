{
  "cells": [
    {
      "cell_type": "code",
      "execution_count": 11,
      "source": [
        "# Importando bibliotecas\r\n",
        "\r\n",
        "import os\r\n",
        "import glob\r\n",
        "import pandas as pd\r\n",
        "import numpy as np \r\n",
        "from sklearn.model_selection import train_test_split\r\n",
        "from sklearn.metrics import confusion_matrix, classification_report\r\n",
        "from xgboost import XGBClassifier\r\n",
        "import seaborn as sns\r\n",
        "import matplotlib.pyplot as plt\r\n",
        "\r\n",
        "np.random.seed(20)"
      ],
      "outputs": [],
      "metadata": {
        "id": "S2VRUcK2LzF9",
        "colab_type": "code",
        "colab": {}
      }
    },
    {
      "cell_type": "code",
      "execution_count": 12,
      "source": [
        "# Definindo diretório\r\n",
        "\r\n",
        "os.chdir(r\"D:\\Documents\\Scripts\\TCC\\Hits\\Dataset\\Bases Usadas No Modelo\")"
      ],
      "outputs": [],
      "metadata": {}
    },
    {
      "cell_type": "code",
      "execution_count": 13,
      "source": [
        "# Loop para pegar todos os nomes dos CSV\r\n",
        "\r\n",
        "extensao = 'csv'\r\n",
        "arquivos = [i for i in glob.glob('*.{}'.format(extensao))]\r\n",
        "\r\n",
        "arquivos"
      ],
      "outputs": [
        {
          "output_type": "execute_result",
          "data": {
            "text/plain": [
              "['FINAL_dataset-of-00s.csv', 'FINAL_dataset-of-10s.csv']"
            ]
          },
          "metadata": {},
          "execution_count": 13
        }
      ],
      "metadata": {}
    },
    {
      "cell_type": "code",
      "execution_count": 14,
      "source": [
        "# Juntando os arquivos em um só \r\n",
        "\r\n",
        "data = pd.concat([pd.read_csv(f) for f in arquivos ])\r\n",
        "data.reset_index(drop=True, inplace=True)"
      ],
      "outputs": [],
      "metadata": {}
    },
    {
      "cell_type": "code",
      "execution_count": 15,
      "source": [
        "# Selecionando as colunas que servirão como parâmetro no modelo\r\n",
        "\r\n",
        "y = data.target\r\n",
        "x = data[['danceability', 'energy', 'key', 'loudness','mode', 'speechiness', 'acousticness', \r\n",
        "          'instrumentalness', 'liveness','valence', 'tempo', 'duration_ms', 'time_signature', 'chorus_hit','sections']]"
      ],
      "outputs": [],
      "metadata": {}
    },
    {
      "cell_type": "code",
      "execution_count": 16,
      "source": [
        "# Divisão do modelo em treino e teste\r\n",
        "\r\n",
        "x_train, x_test, y_train, y_test = train_test_split(x, y, test_size=1/3, random_state=5)"
      ],
      "outputs": [],
      "metadata": {}
    },
    {
      "cell_type": "markdown",
      "source": [
        "### XGBoost"
      ],
      "metadata": {
        "id": "hWiIeXilLzHw",
        "colab_type": "text"
      }
    },
    {
      "cell_type": "code",
      "execution_count": 17,
      "source": [
        "# Criando o modelo\r\n",
        "\r\n",
        "model = XGBClassifier() \r\n",
        "model.fit(x_train, y_train)\r\n",
        "y_pred = model.predict(x_test)"
      ],
      "outputs": [
        {
          "output_type": "stream",
          "name": "stderr",
          "text": [
            "C:\\Users\\maath\\AppData\\Roaming\\Python\\Python39\\site-packages\\xgboost\\sklearn.py:1146: UserWarning: The use of label encoder in XGBClassifier is deprecated and will be removed in a future release. To remove this warning, do the following: 1) Pass option use_label_encoder=False when constructing XGBClassifier object; and 2) Encode your labels (y) as integers starting with 0, i.e. 0, 1, 2, ..., [num_class - 1].\n",
            "  warnings.warn(label_encoder_deprecation_msg, UserWarning)\n"
          ]
        },
        {
          "output_type": "stream",
          "name": "stdout",
          "text": [
            "[22:24:34] WARNING: C:/Users/Administrator/workspace/xgboost-win64_release_1.4.0/src/learner.cc:1095: Starting in XGBoost 1.3.0, the default evaluation metric used with the objective 'binary:logistic' was changed from 'error' to 'logloss'. Explicitly set eval_metric if you'd like to restore the old behavior.\n"
          ]
        }
      ],
      "metadata": {}
    },
    {
      "cell_type": "code",
      "execution_count": 18,
      "source": [
        "# Matriz de confusão\r\n",
        "\r\n",
        "y_pred = model.predict(x_test)\r\n",
        "\r\n",
        "cf_matrix = confusion_matrix(y_test, y_pred)\r\n",
        "\r\n",
        "print(classification_report(y_test, y_pred))\r\n",
        "\r\n",
        "ax= plt.subplot()\r\n",
        "sns.heatmap(cf_matrix, annot=True, fmt='g', ax=ax);\r\n",
        "\r\n",
        "# labels, title and ticks\r\n",
        "ax.set_xlabel('Previsões do XGBoost');ax.set_ylabel('Valores reais'); \r\n",
        "ax.set_title('Matriz de Confusão'); \r\n",
        "ax.xaxis.set_ticklabels(['Hit', 'Flop']); ax.yaxis.set_ticklabels(['Hit', 'Flop']);"
      ],
      "outputs": [
        {
          "output_type": "stream",
          "name": "stdout",
          "text": [
            "              precision    recall  f1-score   support\n",
            "\n",
            "           0       0.86      0.81      0.84      1384\n",
            "           1       0.85      0.89      0.87      1689\n",
            "\n",
            "    accuracy                           0.86      3073\n",
            "   macro avg       0.86      0.85      0.86      3073\n",
            "weighted avg       0.86      0.86      0.86      3073\n",
            "\n"
          ]
        },
        {
          "output_type": "display_data",
          "data": {
            "text/plain": [
              "<Figure size 432x288 with 2 Axes>"
            ],
            "image/png": "[encoded data removed]"
          },
          "metadata": {
            "needs_background": "light"
          }
        }
      ],
      "metadata": {}
    },
    {
      "cell_type": "code",
      "execution_count": 19,
      "source": [
        "# Validando a importância de cada parâmetro\r\n",
        "\r\n",
        "parametros = model.feature_importances_\r\n",
        "parametros"
      ],
      "outputs": [
        {
          "output_type": "execute_result",
          "data": {
            "text/plain": [
              "array([0.07692546, 0.06001486, 0.02593656, 0.06097241, 0.02543551,\n",
              "       0.02939882, 0.0477653 , 0.41943157, 0.03099652, 0.0454311 ,\n",
              "       0.02866593, 0.05643414, 0.03558489, 0.02722025, 0.02978661],\n",
              "      dtype=float32)"
            ]
          },
          "metadata": {},
          "execution_count": 19
        }
      ],
      "metadata": {
        "id": "KE3bTDBALzIB",
        "colab_type": "code",
        "colab": {
          "base_uri": "https://localhost:8080/",
          "height": 73
        },
        "outputId": "96708765-cb58-4ebe-866e-94192af3a11f"
      }
    },
    {
      "cell_type": "code",
      "execution_count": 20,
      "source": [
        "# Classificando os parâmetros por sua importância no modelo\r\n",
        "\r\n",
        "sorted(zip(model.feature_importances_, x.columns), reverse=True)"
      ],
      "outputs": [
        {
          "output_type": "execute_result",
          "data": {
            "text/plain": [
              "[(0.41943157, 'instrumentalness'),\n",
              " (0.076925464, 'danceability'),\n",
              " (0.06097241, 'loudness'),\n",
              " (0.060014863, 'energy'),\n",
              " (0.05643414, 'duration_ms'),\n",
              " (0.047765303, 'acousticness'),\n",
              " (0.045431104, 'valence'),\n",
              " (0.035584893, 'time_signature'),\n",
              " (0.030996516, 'liveness'),\n",
              " (0.029786607, 'sections'),\n",
              " (0.029398823, 'speechiness'),\n",
              " (0.028665928, 'tempo'),\n",
              " (0.027220245, 'chorus_hit'),\n",
              " (0.025936557, 'key'),\n",
              " (0.025435513, 'mode')]"
            ]
          },
          "metadata": {},
          "execution_count": 20
        }
      ],
      "metadata": {
        "id": "0KSlcelbLzIJ",
        "colab_type": "code",
        "colab": {
          "base_uri": "https://localhost:8080/",
          "height": 295
        },
        "outputId": "621c9c0a-3e92-48b4-d499-9459107e02c2"
      }
    }
  ],
  "metadata": {
    "language_info": {
      "codemirror_mode": {
        "name": "ipython",
        "version": 3
      },
      "file_extension": ".py",
      "mimetype": "text/x-python",
      "name": "python",
      "nbconvert_exporter": "python",
      "pygments_lexer": "ipython3",
      "version": "3.9.5"
    },
    "orig_nbformat": 2,
    "kernelspec": {
      "name": "python3",
      "display_name": "Python 3.9.5 64-bit"
    },
    "colab": {
      "name": "model_randomForest_colab.ipynb",
      "provenance": []
    },
    "interpreter": {
      "hash": "ac59ebe37160ed0dfa835113d9b8498d9f09ceb179beaac4002f036b9467c963"
    }
  },
  "nbformat": 4,
  "nbformat_minor": 2
}