{
 "cells": [
  {
   "cell_type": "code",
   "execution_count": 34,
   "source": [
    "# Importando bibliotecas\r\n",
    "\r\n",
    "import os\r\n",
    "import glob\r\n",
    "import pandas as pd\r\n",
    "import numpy as np \r\n",
    "from sklearn.model_selection import train_test_split\r\n",
    "from sklearn.preprocessing import StandardScaler\r\n",
    "from sklearn.ensemble import RandomForestClassifier\r\n",
    "from sklearn.metrics import confusion_matrix, classification_report,accuracy_score\r\n",
    "import seaborn as sns\r\n",
    "import matplotlib.pyplot as plt    \r\n",
    "\r\n",
    "np.random.seed(20)"
   ],
   "outputs": [],
   "metadata": {}
  },
  {
   "cell_type": "code",
   "execution_count": 35,
   "source": [
    "# Definindo diretório\r\n",
    "\r\n",
    "os.chdir(r\"D:\\Documents\\Scripts\\TCC\\Hits\\Dataset\\Bases Tratadas\\Spotify\")"
   ],
   "outputs": [],
   "metadata": {}
  },
  {
   "cell_type": "code",
   "execution_count": 36,
   "source": [
    "# Loop para pegar todos os CSV\r\n",
    "\r\n",
    "extensao = 'csv'\r\n",
    "arquivos = [i for i in glob.glob('*.{}'.format(extensao))]\r\n",
    "\r\n",
    "arquivos"
   ],
   "outputs": [
    {
     "output_type": "execute_result",
     "data": {
      "text/plain": [
       "['FINAL_dataset-of-00s.csv',\n",
       " 'FINAL_dataset-of-10s.csv',\n",
       " 'FINAL_dataset-of-60s.csv',\n",
       " 'FINAL_dataset-of-70s.csv',\n",
       " 'FINAL_dataset-of-80s.csv',\n",
       " 'FINAL_dataset-of-90s.csv']"
      ]
     },
     "metadata": {},
     "execution_count": 36
    }
   ],
   "metadata": {}
  },
  {
   "cell_type": "code",
   "execution_count": 37,
   "source": [
    "# Juntando os arquivos em um só \r\n",
    "\r\n",
    "data = pd.concat([pd.read_csv(f) for f in arquivos ])\r\n",
    "data.reset_index(drop=True, inplace=True)"
   ],
   "outputs": [],
   "metadata": {}
  },
  {
   "cell_type": "code",
   "execution_count": 38,
   "source": [
    "# Visualizando as colunas\r\n",
    "\r\n",
    "data.columns"
   ],
   "outputs": [
    {
     "output_type": "execute_result",
     "data": {
      "text/plain": [
       "Index(['track', 'artist', 'uri', 'danceability', 'energy', 'key', 'loudness',\n",
       "       'mode', 'speechiness', 'acousticness', 'instrumentalness', 'liveness',\n",
       "       'valence', 'tempo', 'duration_ms', 'time_signature', 'chorus_hit',\n",
       "       'sections', 'target', 'artist_name', 'artist_final', 'country',\n",
       "       'genre'],\n",
       "      dtype='object')"
      ]
     },
     "metadata": {},
     "execution_count": 38
    }
   ],
   "metadata": {}
  },
  {
   "cell_type": "code",
   "execution_count": 39,
   "source": [
    "# Selecionando as colunas que servirão como parâmetro no modelo\r\n",
    "\r\n",
    "y = data.target\r\n",
    "x = data[['danceability', 'energy', 'key', 'loudness','mode', 'speechiness', 'acousticness', \r\n",
    "          'instrumentalness', 'liveness','valence', 'tempo', 'duration_ms', 'time_signature', 'chorus_hit','sections']]"
   ],
   "outputs": [],
   "metadata": {}
  },
  {
   "cell_type": "code",
   "execution_count": 40,
   "source": [
    "# Total de linhas\r\n",
    "\r\n",
    "print(x.shape, y.shape)"
   ],
   "outputs": [
    {
     "output_type": "stream",
     "name": "stdout",
     "text": [
      "(33056, 15) (33056,)\n"
     ]
    }
   ],
   "metadata": {
    "tags": []
   }
  },
  {
   "cell_type": "code",
   "execution_count": 41,
   "source": [
    "# Divisão da base em treino e teste\r\n",
    "\r\n",
    "x_train, x_test, y_train, y_test = train_test_split(x, y, test_size=1/3, random_state=5)"
   ],
   "outputs": [],
   "metadata": {}
  },
  {
   "cell_type": "markdown",
   "source": [
    "### RANDOM FOREST"
   ],
   "metadata": {}
  },
  {
   "cell_type": "code",
   "execution_count": 42,
   "source": [
    "# Criando um classificador RandomForest\r\n",
    "\r\n",
    "modelo = RandomForestClassifier(n_estimators=500, criterion='gini', random_state = 0) \r\n",
    "modelo = modelo.fit(x_train, y_train)"
   ],
   "outputs": [],
   "metadata": {}
  },
  {
   "cell_type": "code",
   "execution_count": 43,
   "source": [
    "# Matriz de confusão\r\n",
    "\r\n",
    "y_pred = modelo.predict(x_test)\r\n",
    "\r\n",
    "cf_matrix = confusion_matrix(y_test, y_pred)\r\n",
    "\r\n",
    "print(classification_report(y_test, y_pred))\r\n",
    "\r\n",
    "ax= plt.subplot()\r\n",
    "sns.heatmap(cf_matrix, annot=True, fmt='g', ax=ax);\r\n",
    "\r\n",
    "# labels, title and ticks\r\n",
    "ax.set_xlabel('Previsões do RandomForest');ax.set_ylabel('Valores reais'); \r\n",
    "ax.set_title('Matriz de Confusão'); \r\n",
    "ax.xaxis.set_ticklabels(['Hit', 'Flop']); ax.yaxis.set_ticklabels(['Hit', 'Flop']);"
   ],
   "outputs": [
    {
     "output_type": "stream",
     "name": "stdout",
     "text": [
      "              precision    recall  f1-score   support\n",
      "\n",
      "           0       0.83      0.72      0.77      5182\n",
      "           1       0.78      0.87      0.82      5837\n",
      "\n",
      "    accuracy                           0.80     11019\n",
      "   macro avg       0.80      0.79      0.79     11019\n",
      "weighted avg       0.80      0.80      0.80     11019\n",
      "\n"
     ]
    },
    {
     "output_type": "display_data",
     "data": {
      "text/plain": [
       "<Figure size 432x288 with 2 Axes>"
      ],
      "image/png": "[encoded data removed]"
     },
     "metadata": {
      "needs_background": "light"
     }
    }
   ],
   "metadata": {}
  },
  {
   "cell_type": "code",
   "execution_count": 44,
   "source": [
    "# Validando a importância de cada parâmetro\r\n",
    "\r\n",
    "parametros = modelo.feature_importances_\r\n",
    "parametros"
   ],
   "outputs": [
    {
     "output_type": "execute_result",
     "data": {
      "text/plain": [
       "array([0.1083704 , 0.08358086, 0.02862025, 0.07507569, 0.01015301,\n",
       "       0.07248636, 0.11077488, 0.17003747, 0.05046266, 0.07033322,\n",
       "       0.05094981, 0.07567286, 0.00639787, 0.04854252, 0.03854214])"
      ]
     },
     "metadata": {},
     "execution_count": 44
    }
   ],
   "metadata": {}
  },
  {
   "cell_type": "code",
   "execution_count": 45,
   "source": [
    "# Classificando os parâmetros por sua importância no modelo\r\n",
    "\r\n",
    "sorted(zip(modelo.feature_importances_, x.columns), reverse=True)"
   ],
   "outputs": [
    {
     "output_type": "execute_result",
     "data": {
      "text/plain": [
       "[(0.1700374700491776, 'instrumentalness'),\n",
       " (0.11077487573003265, 'acousticness'),\n",
       " (0.1083704030976634, 'danceability'),\n",
       " (0.08358085994582654, 'energy'),\n",
       " (0.07567285806480462, 'duration_ms'),\n",
       " (0.07507568782139426, 'loudness'),\n",
       " (0.0724863592480964, 'speechiness'),\n",
       " (0.07033322474719204, 'valence'),\n",
       " (0.05094981089852363, 'tempo'),\n",
       " (0.05046265870341049, 'liveness'),\n",
       " (0.0485425202772903, 'chorus_hit'),\n",
       " (0.03854214130915587, 'sections'),\n",
       " (0.028620249592750474, 'key'),\n",
       " (0.01015300956621256, 'mode'),\n",
       " (0.006397870948469031, 'time_signature')]"
      ]
     },
     "metadata": {},
     "execution_count": 45
    }
   ],
   "metadata": {}
  }
 ],
 "metadata": {
  "language_info": {
   "codemirror_mode": {
    "name": "ipython",
    "version": 3
   },
   "file_extension": ".py",
   "mimetype": "text/x-python",
   "name": "python",
   "nbconvert_exporter": "python",
   "pygments_lexer": "ipython3",
   "version": "3.9.5"
  },
  "orig_nbformat": 2,
  "kernelspec": {
   "name": "python3",
   "display_name": "Python 3.9.5 64-bit"
  },
  "interpreter": {
   "hash": "ac59ebe37160ed0dfa835113d9b8498d9f09ceb179beaac4002f036b9467c963"
  }
 },
 "nbformat": 4,
 "nbformat_minor": 2
}