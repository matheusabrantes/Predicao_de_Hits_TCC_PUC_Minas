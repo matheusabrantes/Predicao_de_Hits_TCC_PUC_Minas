{
  "cells": [
    {
      "cell_type": "code",
      "execution_count": 1,
      "source": [
        "# Importando bibliotecas\r\n",
        "\r\n",
        "import os\r\n",
        "import glob\r\n",
        "import pandas as pd\r\n",
        "import numpy as np \r\n",
        "from sklearn.model_selection import train_test_split\r\n",
        "from sklearn.metrics import confusion_matrix, classification_report\r\n",
        "from xgboost import XGBClassifier\r\n",
        "import seaborn as sns\r\n",
        "import matplotlib.pyplot as plt\r\n",
        "\r\n",
        "np.random.seed(20)"
      ],
      "outputs": [],
      "metadata": {
        "id": "S2VRUcK2LzF9",
        "colab_type": "code",
        "colab": {}
      }
    },
    {
      "cell_type": "code",
      "execution_count": 2,
      "source": [
        "# Definindo diretório\r\n",
        "\r\n",
        "os.chdir(r\"D:\\Documents\\Scripts\\TCC\\Hits\\Dataset\\Bases Tratadas\\Spotify\")"
      ],
      "outputs": [],
      "metadata": {}
    },
    {
      "cell_type": "code",
      "execution_count": 3,
      "source": [
        "# Loop para pegar todos os nomes dos CSV\r\n",
        "\r\n",
        "extensao = 'csv'\r\n",
        "arquivos = [i for i in glob.glob('*.{}'.format(extensao))]\r\n",
        "\r\n",
        "arquivos"
      ],
      "outputs": [
        {
          "output_type": "execute_result",
          "data": {
            "text/plain": [
              "['FINAL_dataset-of-00s.csv',\n",
              " 'FINAL_dataset-of-10s.csv',\n",
              " 'FINAL_dataset-of-60s.csv',\n",
              " 'FINAL_dataset-of-70s.csv',\n",
              " 'FINAL_dataset-of-80s.csv',\n",
              " 'FINAL_dataset-of-90s.csv']"
            ]
          },
          "metadata": {},
          "execution_count": 3
        }
      ],
      "metadata": {}
    },
    {
      "cell_type": "code",
      "execution_count": 4,
      "source": [
        "# Juntando os arquivos em um só \r\n",
        "\r\n",
        "data = pd.concat([pd.read_csv(f) for f in arquivos ])\r\n",
        "data.reset_index(drop=True, inplace=True)"
      ],
      "outputs": [],
      "metadata": {}
    },
    {
      "cell_type": "code",
      "execution_count": 5,
      "source": [
        "# Selecionando as colunas que servirão como parâmetro no modelo\r\n",
        "\r\n",
        "y = data.target\r\n",
        "x = data[['danceability', 'energy', 'key', 'loudness','mode', 'speechiness', 'acousticness', \r\n",
        "          'instrumentalness', 'liveness','valence', 'tempo', 'duration_ms', 'time_signature', 'chorus_hit','sections']]"
      ],
      "outputs": [],
      "metadata": {}
    },
    {
      "cell_type": "code",
      "execution_count": 6,
      "source": [
        "# Divisão do modelo em treino e teste\r\n",
        "\r\n",
        "x_train, x_test, y_train, y_test = train_test_split(x, y, test_size=1/3, random_state=5)"
      ],
      "outputs": [],
      "metadata": {}
    },
    {
      "cell_type": "markdown",
      "source": [
        "### XGBoost"
      ],
      "metadata": {
        "id": "hWiIeXilLzHw",
        "colab_type": "text"
      }
    },
    {
      "cell_type": "code",
      "execution_count": 7,
      "source": [
        "# Criando o modelo\r\n",
        "\r\n",
        "model = XGBClassifier() \r\n",
        "model.fit(x_train, y_train)\r\n",
        "y_pred = model.predict(x_test)"
      ],
      "outputs": [
        {
          "output_type": "stream",
          "name": "stderr",
          "text": [
            "C:\\Users\\maath\\AppData\\Roaming\\Python\\Python39\\site-packages\\xgboost\\sklearn.py:1146: UserWarning: The use of label encoder in XGBClassifier is deprecated and will be removed in a future release. To remove this warning, do the following: 1) Pass option use_label_encoder=False when constructing XGBClassifier object; and 2) Encode your labels (y) as integers starting with 0, i.e. 0, 1, 2, ..., [num_class - 1].\n",
            "  warnings.warn(label_encoder_deprecation_msg, UserWarning)\n"
          ]
        },
        {
          "output_type": "stream",
          "name": "stdout",
          "text": [
            "[22:21:33] WARNING: C:/Users/Administrator/workspace/xgboost-win64_release_1.4.0/src/learner.cc:1095: Starting in XGBoost 1.3.0, the default evaluation metric used with the objective 'binary:logistic' was changed from 'error' to 'logloss'. Explicitly set eval_metric if you'd like to restore the old behavior.\n"
          ]
        }
      ],
      "metadata": {}
    },
    {
      "cell_type": "code",
      "execution_count": 8,
      "source": [
        "# Matriz de confusão\r\n",
        "\r\n",
        "y_pred = model.predict(x_test)\r\n",
        "\r\n",
        "cf_matrix = confusion_matrix(y_test, y_pred)\r\n",
        "\r\n",
        "print(classification_report(y_test, y_pred))\r\n",
        "\r\n",
        "ax= plt.subplot()\r\n",
        "sns.heatmap(cf_matrix, annot=True, fmt='g', ax=ax);\r\n",
        "\r\n",
        "# labels, title and ticks\r\n",
        "ax.set_xlabel('Previsões do XGBoost');ax.set_ylabel('Valores reais'); \r\n",
        "ax.set_title('Matriz de Confusão'); \r\n",
        "ax.xaxis.set_ticklabels(['Hit', 'Flop']); ax.yaxis.set_ticklabels(['Hit', 'Flop']);"
      ],
      "outputs": [
        {
          "output_type": "stream",
          "name": "stdout",
          "text": [
            "              precision    recall  f1-score   support\n",
            "\n",
            "           0       0.81      0.72      0.76      5182\n",
            "           1       0.77      0.85      0.81      5837\n",
            "\n",
            "    accuracy                           0.79     11019\n",
            "   macro avg       0.79      0.78      0.79     11019\n",
            "weighted avg       0.79      0.79      0.79     11019\n",
            "\n"
          ]
        },
        {
          "output_type": "display_data",
          "data": {
            "text/plain": [
              "<Figure size 432x288 with 2 Axes>"
            ],
            "image/png": "[encoded data removed]"
          },
          "metadata": {
            "needs_background": "light"
          }
        }
      ],
      "metadata": {}
    },
    {
      "cell_type": "code",
      "execution_count": 9,
      "source": [
        "# Validando a importância de cada parâmetro\r\n",
        "\r\n",
        "parametros = model.feature_importances_\r\n",
        "parametros"
      ],
      "outputs": [
        {
          "output_type": "execute_result",
          "data": {
            "text/plain": [
              "array([0.08949658, 0.05770431, 0.02318012, 0.04082545, 0.09403004,\n",
              "       0.05651331, 0.08758878, 0.28382745, 0.02780586, 0.04504716,\n",
              "       0.02928043, 0.05394901, 0.03879402, 0.0268971 , 0.04506046],\n",
              "      dtype=float32)"
            ]
          },
          "metadata": {},
          "execution_count": 9
        }
      ],
      "metadata": {
        "id": "KE3bTDBALzIB",
        "colab_type": "code",
        "colab": {
          "base_uri": "https://localhost:8080/",
          "height": 73
        },
        "outputId": "96708765-cb58-4ebe-866e-94192af3a11f"
      }
    },
    {
      "cell_type": "code",
      "execution_count": 10,
      "source": [
        "# Classificando os parâmetros por sua importância no modelo\r\n",
        "\r\n",
        "sorted(zip(model.feature_importances_, x.columns), reverse=True)"
      ],
      "outputs": [
        {
          "output_type": "execute_result",
          "data": {
            "text/plain": [
              "[(0.28382745, 'instrumentalness'),\n",
              " (0.094030045, 'mode'),\n",
              " (0.089496575, 'danceability'),\n",
              " (0.08758878, 'acousticness'),\n",
              " (0.057704315, 'energy'),\n",
              " (0.056513306, 'speechiness'),\n",
              " (0.053949013, 'duration_ms'),\n",
              " (0.045060463, 'sections'),\n",
              " (0.04504716, 'valence'),\n",
              " (0.040825445, 'loudness'),\n",
              " (0.038794022, 'time_signature'),\n",
              " (0.029280432, 'tempo'),\n",
              " (0.027805863, 'liveness'),\n",
              " (0.026897095, 'chorus_hit'),\n",
              " (0.023180116, 'key')]"
            ]
          },
          "metadata": {},
          "execution_count": 10
        }
      ],
      "metadata": {
        "id": "0KSlcelbLzIJ",
        "colab_type": "code",
        "colab": {
          "base_uri": "https://localhost:8080/",
          "height": 295
        },
        "outputId": "621c9c0a-3e92-48b4-d499-9459107e02c2"
      }
    }
  ],
  "metadata": {
    "language_info": {
      "codemirror_mode": {
        "name": "ipython",
        "version": 3
      },
      "file_extension": ".py",
      "mimetype": "text/x-python",
      "name": "python",
      "nbconvert_exporter": "python",
      "pygments_lexer": "ipython3",
      "version": "3.9.5"
    },
    "orig_nbformat": 2,
    "kernelspec": {
      "name": "python3",
      "display_name": "Python 3.9.5 64-bit"
    },
    "colab": {
      "name": "model_randomForest_colab.ipynb",
      "provenance": []
    },
    "interpreter": {
      "hash": "ac59ebe37160ed0dfa835113d9b8498d9f09ceb179beaac4002f036b9467c963"
    }
  },
  "nbformat": 4,
  "nbformat_minor": 2
}