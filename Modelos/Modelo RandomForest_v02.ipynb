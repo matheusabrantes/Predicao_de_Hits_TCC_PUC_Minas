{
  "cells": [
    {
      "cell_type": "code",
      "execution_count": 51,
      "source": [
        "# Importando bibliotecas\r\n",
        "\r\n",
        "import os\r\n",
        "import glob\r\n",
        "import pandas as pd\r\n",
        "import numpy as np \r\n",
        "from sklearn.model_selection import train_test_split\r\n",
        "from sklearn.preprocessing import StandardScaler\r\n",
        "from sklearn.ensemble import RandomForestClassifier\r\n",
        "from sklearn.metrics import confusion_matrix, classification_report,accuracy_score\r\n",
        "import seaborn as sns\r\n",
        "import matplotlib.pyplot as plt    \r\n",
        "\r\n",
        "np.random.seed(20)"
      ],
      "outputs": [],
      "metadata": {
        "id": "S2VRUcK2LzF9",
        "colab_type": "code",
        "colab": {}
      }
    },
    {
      "cell_type": "code",
      "execution_count": 52,
      "source": [
        "# Definindo diretório\r\n",
        "\r\n",
        "os.chdir(r\"D:\\Documents\\Scripts\\TCC\\Hits\\Dataset\\Bases Usadas No Modelo\")"
      ],
      "outputs": [],
      "metadata": {}
    },
    {
      "cell_type": "code",
      "execution_count": 53,
      "source": [
        "# Loop para pegar todos os nomes dos CSV\r\n",
        "\r\n",
        "extensao = 'csv'\r\n",
        "arquivos = [i for i in glob.glob('*.{}'.format(extensao))]\r\n",
        "\r\n",
        "arquivos"
      ],
      "outputs": [
        {
          "output_type": "execute_result",
          "data": {
            "text/plain": [
              "['FINAL_dataset-of-00s.csv', 'FINAL_dataset-of-10s.csv']"
            ]
          },
          "metadata": {},
          "execution_count": 53
        }
      ],
      "metadata": {
        "id": "820idZCKLzGb",
        "colab_type": "code",
        "colab": {
          "base_uri": "https://localhost:8080/",
          "height": 36
        },
        "outputId": "84050637-9dcb-4488-f8e4-ba5c2c955941"
      }
    },
    {
      "cell_type": "code",
      "execution_count": 54,
      "source": [
        "# Juntando os arquivos em um só \r\n",
        "\r\n",
        "data = pd.concat([pd.read_csv(f) for f in arquivos ])\r\n",
        "data.reset_index(drop=True, inplace=True)"
      ],
      "outputs": [],
      "metadata": {
        "id": "rGAdpyPyLzGv",
        "colab_type": "code",
        "colab": {}
      }
    },
    {
      "cell_type": "code",
      "execution_count": 55,
      "source": [
        "# Selecionando as colunas que servirão como parâmetro no modelo\r\n",
        "    \r\n",
        "y = data.target\r\n",
        "x = data[['danceability', 'energy', 'key', 'loudness','mode', 'speechiness', 'acousticness', 'instrumentalness', 'liveness','valence', 'tempo', 'duration_ms', 'time_signature', 'chorus_hit','sections']]"
      ],
      "outputs": [],
      "metadata": {
        "id": "ELJ46_6HLzHU",
        "colab_type": "code",
        "colab": {}
      }
    },
    {
      "cell_type": "code",
      "execution_count": 56,
      "source": [
        "# Divisão do modelo em treino e teste\r\n",
        "\r\n",
        "x_train, x_test, y_train, y_test = train_test_split(x, y, test_size=1/3, random_state=5)"
      ],
      "outputs": [],
      "metadata": {
        "id": "d_OiHsARLzHk",
        "colab_type": "code",
        "colab": {}
      }
    },
    {
      "cell_type": "markdown",
      "source": [
        "### RANDOM FOREST"
      ],
      "metadata": {
        "id": "hWiIeXilLzHw",
        "colab_type": "text"
      }
    },
    {
      "cell_type": "code",
      "execution_count": 57,
      "source": [
        "# Criando o modelo\r\n",
        "\r\n",
        "modelo = RandomForestClassifier(n_estimators=500, criterion='gini', random_state = 0) \r\n",
        "modelo = modelo.fit(x_train, y_train)\r\n",
        "y_pred = modelo.predict(x_test)\r\n",
        "y_pred"
      ],
      "outputs": [
        {
          "output_type": "execute_result",
          "data": {
            "text/plain": [
              "array([1, 1, 1, ..., 0, 0, 0], dtype=int64)"
            ]
          },
          "metadata": {},
          "execution_count": 57
        }
      ],
      "metadata": {
        "id": "h9zSNCLfLzHy",
        "colab_type": "code",
        "colab": {}
      }
    },
    {
      "cell_type": "code",
      "execution_count": 58,
      "source": [
        "# Matriz de confusão\r\n",
        "\r\n",
        "y_pred = modelo.predict(x_test)\r\n",
        "\r\n",
        "cf_matrix = confusion_matrix(y_test, y_pred)\r\n",
        "\r\n",
        "print(classification_report(y_test, y_pred))\r\n",
        "\r\n",
        "ax= plt.subplot()\r\n",
        "sns.heatmap(cf_matrix, annot=True, fmt='g', ax=ax);\r\n",
        "\r\n",
        "# labels, title and ticks\r\n",
        "ax.set_xlabel('Previsões do RandomForest');ax.set_ylabel('Valores reais'); \r\n",
        "ax.set_title('Matriz de Confusão'); \r\n",
        "ax.xaxis.set_ticklabels(['Hit', 'Flop']); ax.yaxis.set_ticklabels(['Hit', 'Flop']);"
      ],
      "outputs": [
        {
          "output_type": "stream",
          "name": "stdout",
          "text": [
            "              precision    recall  f1-score   support\n",
            "\n",
            "           0       0.89      0.81      0.85      1384\n",
            "           1       0.86      0.92      0.88      1689\n",
            "\n",
            "    accuracy                           0.87      3073\n",
            "   macro avg       0.87      0.86      0.87      3073\n",
            "weighted avg       0.87      0.87      0.87      3073\n",
            "\n"
          ]
        },
        {
          "output_type": "display_data",
          "data": {
            "text/plain": [
              "<Figure size 432x288 with 2 Axes>"
            ],
            "image/png": "[encoded data removed]"
          },
          "metadata": {
            "needs_background": "light"
          }
        }
      ],
      "metadata": {}
    },
    {
      "cell_type": "code",
      "execution_count": 59,
      "source": [
        "# Validando a importância de cada parâmetro\r\n",
        "\r\n",
        "parametros = modelo.feature_importances_\r\n",
        "parametros"
      ],
      "outputs": [
        {
          "output_type": "execute_result",
          "data": {
            "text/plain": [
              "array([0.11736678, 0.07936671, 0.0211273 , 0.0973125 , 0.0059749 ,\n",
              "       0.04288718, 0.0924624 , 0.25670086, 0.03850325, 0.05908559,\n",
              "       0.03528991, 0.08697533, 0.00465365, 0.03505192, 0.02724171])"
            ]
          },
          "metadata": {},
          "execution_count": 59
        }
      ],
      "metadata": {
        "id": "KE3bTDBALzIB",
        "colab_type": "code",
        "colab": {
          "base_uri": "https://localhost:8080/",
          "height": 73
        },
        "outputId": "96708765-cb58-4ebe-866e-94192af3a11f"
      }
    },
    {
      "cell_type": "code",
      "execution_count": 60,
      "source": [
        "# Classificando os parâmetros por sua importância no modelo\r\n",
        "\r\n",
        "sorted(zip(modelo.feature_importances_, x.columns), reverse=True)"
      ],
      "outputs": [
        {
          "output_type": "execute_result",
          "data": {
            "text/plain": [
              "[(0.2567008637368943, 'instrumentalness'),\n",
              " (0.11736678452141436, 'danceability'),\n",
              " (0.09731250401431281, 'loudness'),\n",
              " (0.09246240202395288, 'acousticness'),\n",
              " (0.08697532736405224, 'duration_ms'),\n",
              " (0.07936670676598916, 'energy'),\n",
              " (0.05908558762752952, 'valence'),\n",
              " (0.042887179476228506, 'speechiness'),\n",
              " (0.03850325121179015, 'liveness'),\n",
              " (0.035289911772094194, 'tempo'),\n",
              " (0.03505192299839428, 'chorus_hit'),\n",
              " (0.027241710261753385, 'sections'),\n",
              " (0.021127300722229705, 'key'),\n",
              " (0.0059749011482830286, 'mode'),\n",
              " (0.0046536463550815475, 'time_signature')]"
            ]
          },
          "metadata": {},
          "execution_count": 60
        }
      ],
      "metadata": {
        "id": "0KSlcelbLzIJ",
        "colab_type": "code",
        "colab": {
          "base_uri": "https://localhost:8080/",
          "height": 295
        },
        "outputId": "621c9c0a-3e92-48b4-d499-9459107e02c2"
      }
    }
  ],
  "metadata": {
    "language_info": {
      "codemirror_mode": {
        "name": "ipython",
        "version": 3
      },
      "file_extension": ".py",
      "mimetype": "text/x-python",
      "name": "python",
      "nbconvert_exporter": "python",
      "pygments_lexer": "ipython3",
      "version": "3.9.5"
    },
    "orig_nbformat": 2,
    "kernelspec": {
      "name": "python3",
      "display_name": "Python 3.9.5 64-bit"
    },
    "colab": {
      "name": "model_randomForest_colab.ipynb",
      "provenance": []
    },
    "interpreter": {
      "hash": "ac59ebe37160ed0dfa835113d9b8498d9f09ceb179beaac4002f036b9467c963"
    }
  },
  "nbformat": 4,
  "nbformat_minor": 2
}